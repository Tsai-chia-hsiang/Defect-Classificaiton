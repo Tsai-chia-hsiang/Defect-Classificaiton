{
 "cells": [
  {
   "cell_type": "code",
   "execution_count": 1,
   "metadata": {},
   "outputs": [],
   "source": [
    "from pathlib import Path\n",
    "import numpy as np\n",
    "from tqdm import tqdm\n",
    "import cv2\n",
    "import matplotlib.pyplot as plt\n",
    "from tools.io import read_json, write_json"
   ]
  },
  {
   "cell_type": "code",
   "execution_count": 2,
   "metadata": {},
   "outputs": [],
   "source": [
    "patch_table = read_json(\"connectedcomponents/patches/patches_coo.json\")\n",
    "f_table = {}\n",
    "coo_table = {}\n",
    "for t in patch_table:\n",
    "    f_table[t] = {}\n",
    "    coo_table[t] = {}\n",
    "    for task, v in patch_table[t].items():\n",
    "        f_table[t][task] = [vi[0] for vi in v]\n",
    "        coo_table[t][task] = [vi[1] for vi in v]\n",
    "write_json(f_table,\"connectedcomponents/patches/f_table.json\")\n",
    "write_json(coo_table, \"connectedcomponents/patches/coo_table.json\")\n",
    "\n"
   ]
  }
 ],
 "metadata": {
  "kernelspec": {
   "display_name": "tenv",
   "language": "python",
   "name": "python3"
  },
  "language_info": {
   "codemirror_mode": {
    "name": "ipython",
    "version": 3
   },
   "file_extension": ".py",
   "mimetype": "text/x-python",
   "name": "python",
   "nbconvert_exporter": "python",
   "pygments_lexer": "ipython3",
   "version": "3.10.14"
  }
 },
 "nbformat": 4,
 "nbformat_minor": 2
}
