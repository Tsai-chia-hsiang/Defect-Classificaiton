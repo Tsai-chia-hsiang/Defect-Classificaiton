{
 "cells": [
  {
   "cell_type": "code",
   "execution_count": 1,
   "metadata": {},
   "outputs": [],
   "source": [
    "from tools.io import read_json, write_json\n",
    "import numpy as np\n",
    "from pathlib import Path"
   ]
  },
  {
   "cell_type": "code",
   "execution_count": 6,
   "metadata": {},
   "outputs": [],
   "source": [
    "droot = Path(\"dataset\")/\"p2\""
   ]
  },
  {
   "cell_type": "code",
   "execution_count": 5,
   "metadata": {},
   "outputs": [],
   "source": [
    "table = {}\n",
    "\n",
    "for ti in droot.iterdir():\n",
    "    if ti.is_dir():\n",
    "        org_img = [_ for _ in ti.glob(\"*.jpg\") if 'aug' not in _.stem]\n",
    "        idxs = np.random.permutation(np.arange(len(org_img)))\n",
    "        train_to = int(len(org_img)*0.8)\n",
    "        train_idx = idxs[:train_to]\n",
    "        real_train = int(len(train_idx)*0.9)\n",
    "        real_train_idx = train_idx[:real_train]\n",
    "        valid_idx = train_idx[real_train:]\n",
    "        to_test = idxs[train_to:]\n",
    "        table[ti.parts[-1]] = {\n",
    "            'train':sorted([str(org_img[i]) for i in real_train_idx], key=lambda x:int(Path(x).stem)),\n",
    "            'valid':sorted([str(org_img[i]) for i in valid_idx], key=lambda x:int(Path(x).stem)),\n",
    "            'test':sorted([str(org_img[i]) for i in to_test], key=lambda x:int(Path(x).stem))\n",
    "        }\n",
    "write_json(table, Path(\"dataset\")/\"train_valid_test\"/\"baseline.json\")"
   ]
  },
  {
   "cell_type": "code",
   "execution_count": 9,
   "metadata": {},
   "outputs": [],
   "source": [
    "aug_table = {}\n",
    "for ti in table:\n",
    "    aug_table[ti] = table[ti].copy()\n",
    "    if ti == \"Type0\":\n",
    "        continue\n",
    "\n",
    "    aug_train = []\n",
    "    for i in table[ti]['train']:\n",
    "        imid = Path(i).stem\n",
    "        aug_train += [str(_) for _ in (droot/ti).glob(f\"aug*_{imid}.jpg\") ]\n",
    "\n",
    "    aug_table[ti]['train'] = sorted(\n",
    "        aug_train + aug_table[ti]['train'],\n",
    "        key=lambda x:int(Path(x).stem.split(\"_\")[-1])\n",
    "    )\n",
    "write_json(aug_table, Path(\"dataset\")/\"train_valid_test\"/\"aug.json\")"
   ]
  },
  {
   "cell_type": "code",
   "execution_count": null,
   "metadata": {},
   "outputs": [],
   "source": [
    "down_table = {}\n",
    "for ti in table:\n",
    "    print(ti)\n",
    "    down_table[ti] = {}\n",
    "    if ti == \"Type1\":\n",
    "        down_table[ti] = aug_table[ti].copy()\n",
    "    elif ti == \"Type0\":\n",
    "        down_idx_train = np.random.permutation(np.arange(len(table[ti]['train'])))[:500]\n",
    "        down_idx_val = np.random.permutation(np.arange(len(table[ti]['valid'])))[:55]\n",
    "        down_table[ti]['train'] = sorted(\n",
    "            [table[ti]['train'][i] for i in down_idx_train], \n",
    "            key=lambda x:int(Path(x).stem)\n",
    "        )\n",
    "        down_table[ti]['valid'] = sorted(\n",
    "            [table[ti]['valid'][i] for i in down_idx_val], \n",
    "            key=lambda x:int(Path(x).stem)\n",
    "        )\n",
    "    else:\n",
    "        down_table[ti] = table[ti].copy()\n",
    "print(len(down_table[\"Type0\"]['train']))       \n",
    "write_json(down_table, Path(\"dataset\")/\"train_valid_test\"/\"down.json\")"
   ]
  }
 ],
 "metadata": {
  "kernelspec": {
   "display_name": "tenv",
   "language": "python",
   "name": "python3"
  },
  "language_info": {
   "codemirror_mode": {
    "name": "ipython",
    "version": 3
   },
   "file_extension": ".py",
   "mimetype": "text/x-python",
   "name": "python",
   "nbconvert_exporter": "python",
   "pygments_lexer": "ipython3",
   "version": "3.1.-1"
  }
 },
 "nbformat": 4,
 "nbformat_minor": 2
}
