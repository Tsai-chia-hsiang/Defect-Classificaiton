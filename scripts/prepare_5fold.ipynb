{
 "cells": [
  {
   "cell_type": "code",
   "execution_count": null,
   "metadata": {},
   "outputs": [],
   "source": [
    "from tools.io import read_json, write_json\n",
    "from pathlib import Path\n",
    "import numpy as np\n",
    "from sklearn.model_selection import KFold"
   ]
  },
  {
   "cell_type": "code",
   "execution_count": null,
   "metadata": {},
   "outputs": [],
   "source": [
    "def print_table(t):\n",
    "    for ti in t:\n",
    "        for k,v in ti.items():\n",
    "            print(f\"{k}\", end=\" \")\n",
    "            for u, l in v.items():\n",
    "                print(f\"{u},{len(l)}\", end=\" \")\n",
    "            print()\n",
    "        print(\"=\"*10)"
   ]
  },
  {
   "cell_type": "markdown",
   "metadata": {},
   "source": [
    "# K Fold split"
   ]
  },
  {
   "cell_type": "code",
   "execution_count": null,
   "metadata": {},
   "outputs": [],
   "source": [
    "root = Path(\"../dataset\")/\"p2\"\n",
    "types = [_ for _ in root.iterdir() if _.is_dir()]\n",
    "print(types)"
   ]
  },
  {
   "cell_type": "code",
   "execution_count": null,
   "metadata": {},
   "outputs": [],
   "source": [
    "kf = KFold(n_splits=5, random_state=20001122, shuffle=True)"
   ]
  },
  {
   "cell_type": "code",
   "execution_count": null,
   "metadata": {},
   "outputs": [],
   "source": [
    "table = [{ti.parts[-1] : {} for ti in types} for i in range(5)]\n",
    "table\n",
    "for ti in types:\n",
    "    \n",
    "    imgs = [_ for _ in ti.glob(\"*.jpg\") if 'aug' not in str(_)]\n",
    "    imgs.sort(key=lambda x:int(x.stem))\n",
    "    folds = list(kf.split(imgs))\n",
    "\n",
    "    for fold_number, (train_index, val_index) in enumerate(folds):\n",
    "        \n",
    "        train_data = [str(imgs[i]) for i in train_index]\n",
    "        val_data = [str(imgs[i]) for i in val_index]\n",
    "        \n",
    "        table[fold_number][ti.parts[-1]][\"train\"] = train_data\n",
    "        table[fold_number][ti.parts[-1]]['valid'] = val_data\n",
    "    \n",
    "table"
   ]
  },
  {
   "cell_type": "code",
   "execution_count": null,
   "metadata": {},
   "outputs": [],
   "source": [
    "write_json(table, Path(\"../dataset\")/f\"5_folds.json\")"
   ]
  },
  {
   "cell_type": "markdown",
   "metadata": {},
   "source": [
    "# Down sampling"
   ]
  },
  {
   "cell_type": "code",
   "execution_count": null,
   "metadata": {},
   "outputs": [],
   "source": [
    "origin_table = read_json(\"../dataset/5_folds.json\")\n",
    "aug_table = read_json(\"../dataset/aug_5_folds.json\")"
   ]
  },
  {
   "cell_type": "code",
   "execution_count": null,
   "metadata": {},
   "outputs": [],
   "source": [
    "print_table(origin_table)"
   ]
  },
  {
   "cell_type": "code",
   "execution_count": null,
   "metadata": {},
   "outputs": [],
   "source": [
    "random_idx = np.random.permutation(np.arange(1141))[:470]\n",
    "for fi in range(len(origin_table)):\n",
    "    origin_table[fi][\"Type0\"][\"train\"] = [ \n",
    "        origin_table[fi][\"Type0\"][\"train\"][_] for _ in random_idx\n",
    "    ]\n",
    "print_table(origin_table)            "
   ]
  },
  {
   "cell_type": "code",
   "execution_count": null,
   "metadata": {},
   "outputs": [],
   "source": [
    "for fi in range(len(origin_table)):\n",
    "    origin_table[fi][\"Type1\"] = aug_table[fi][\"Type1\"]\n",
    "print_table(origin_table)  "
   ]
  },
  {
   "cell_type": "code",
   "execution_count": null,
   "metadata": {},
   "outputs": [],
   "source": [
    "write_json(origin_table, \"../dataset/down_5_folds.json\")"
   ]
  }
 ],
 "metadata": {
  "kernelspec": {
   "display_name": "tenv",
   "language": "python",
   "name": "python3"
  },
  "language_info": {
   "codemirror_mode": {
    "name": "ipython",
    "version": 3
   },
   "file_extension": ".py",
   "mimetype": "text/x-python",
   "name": "python",
   "nbconvert_exporter": "python",
   "pygments_lexer": "ipython3",
   "version": "3.1.-1"
  }
 },
 "nbformat": 4,
 "nbformat_minor": 2
}
